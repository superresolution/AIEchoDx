{
 "cells": [
  {
   "cell_type": "code",
   "execution_count": null,
   "metadata": {},
   "outputs": [],
   "source": [
    "import numpy as np\n",
    "from keras.applications.inception_v3 import InceptionV3\n",
    "from keras.preprocessing import image\n",
    "from keras.preprocessing.image import ImageDataGenerator\n",
    "from keras.models import Model\n",
    "from keras.layers import Dense, GlobalAveragePooling2D, Dropout\n",
    "from keras.models import load_model\n",
    "import cv2"
   ]
  },
  {
   "cell_type": "code",
   "execution_count": null,
   "metadata": {},
   "outputs": [],
   "source": [
    "def generate_dir(directory):\n",
    "    try:\n",
    "        os.stat(directory)\n",
    "    except:\n",
    "        os.mkdir(directory)\n",
    "\n",
    "def get_output_layer(model, layer_name):\n",
    "    # get the symbolic outputs of each \"key\" layer (we gave them unique names).\n",
    "    layer_dict = dict([(layer.name, layer) for layer in model.layers])\n",
    "    layer = layer_dict[layer_name]\n",
    "    return layer\n",
    "\n",
    "def visualize_class_activation_map_v3(model, img_path, output_path, group):\n",
    "    \n",
    "    \"\"\"\n",
    "    change group value for different groups\n",
    "    \n",
    "    \"\"\"\n",
    "    \n",
    "    model = model\n",
    "    original_img = cv2.imread(img_path, 1)\n",
    "    # print(img_path)\n",
    "    width, height, _ = original_img.shape\n",
    "    \n",
    "    img = cv2.resize(original_img, dsize=(224, 224), interpolation=cv2.INTER_LANCZOS4) #\n",
    "    img = img/255.  #\n",
    "    img = img[np.newaxis,::,::,::] #\n",
    "    \n",
    "    class_weights = model.layers[-1].get_weights()[0]\n",
    "    final_conv_layer = get_output_layer(model, \"mixed10\") # \n",
    "    get_output = K.function([model.layers[0].input], [final_conv_layer.output, model.layers[-1].output])\n",
    "    [conv_outputs, predictions] = get_output([img])\n",
    "    conv_outputs = conv_outputs[0, :, :, :]\n",
    "\n",
    "    #Create the class activation map.\n",
    "    cam = np.zeros(dtype = np.float32, shape = conv_outputs.shape[0:2]) #\n",
    "    for i, w in enumerate(class_weights[:, group]): #\n",
    "        cam += w * conv_outputs[:, :, i]\n",
    "    print(\"predictions\", predictions)\n",
    "    cam /= np.max(cam)\n",
    "    cam = cv2.resize(cam, (height, width))\n",
    "    heatmap = cv2.applyColorMap(np.uint8(255*cam), cv2.COLORMAP_JET)\n",
    "    heatmap[np.where(cam < 0.2)] = 0 # 0.002\n",
    "    img = heatmap*0.5 + original_img# 0.5\n",
    "    cv2.imwrite(output_path, img)\n"
   ]
  },
  {
   "cell_type": "code",
   "execution_count": null,
   "metadata": {},
   "outputs": [],
   "source": [
    "# load google inception v3 model\n",
    "model_path = \"...h5\"\n",
    "model = load_model(model_path)"
   ]
  },
  {
   "cell_type": "code",
   "execution_count": null,
   "metadata": {},
   "outputs": [],
   "source": [
    "import os, glob\n",
    "import pandas as pd\n",
    "\n",
    "\n",
    "dcm_dir = \"...\" # file dir of the echo images \n",
    "file_name = [x for x in glob.glob(dcm_dir + \"*.png\")]\n",
    "file_name = pd.DataFrame(data=file_name, columns = [\"dir_\"])\n",
    "file_name[\"patients\"] = \"\"\n",
    "\n",
    "for idx, y in enumerate(file_name.dir_):\n",
    "    y1 = y.split(\"\\\\\")[-1]\n",
    "    length = len(y1.split(\"_\")[-1])\n",
    "    y2 = y1[:-(length+1)]\n",
    "    file_name.loc[idx,\"patients\"] = y2"
   ]
  },
  {
   "cell_type": "code",
   "execution_count": null,
   "metadata": {},
   "outputs": [],
   "source": [
    "for idx, x in enumerate(input_dir):\n",
    "    \n",
    "    group = 1\n",
    "    output_path = os.path.join(dir_output_folder)\n",
    "    generate_dir(directory=output_path)\n",
    "    \n",
    "    \n",
    "    dataframe = file_name[file_name[\"patients\"]==x]\n",
    "    \n",
    "    if dataframe.empty:\n",
    "        print(x)\n",
    "        print(\"\\t\")\n",
    "    else:\n",
    "        for idx2, y in enumerate(dataframe[\"dir_\"]):\n",
    "            img_path = y\n",
    "            directory = output_path + x\n",
    "            generate_dir(directory=directory)\n",
    "\n",
    "            fil = img_path.split(\"\\\\\")[-1]\n",
    "            output_path2 = directory + \"\\\\\" + fil\n",
    "            visualize_class_activation_map_v3(model, img_path, output_path2, group) "
   ]
  },
  {
   "cell_type": "code",
   "execution_count": null,
   "metadata": {},
   "outputs": [],
   "source": []
  }
 ],
 "metadata": {
  "kernelspec": {
   "display_name": "Python 3",
   "language": "python",
   "name": "python3"
  },
  "language_info": {
   "codemirror_mode": {
    "name": "ipython",
    "version": 3
   },
   "file_extension": ".py",
   "mimetype": "text/x-python",
   "name": "python",
   "nbconvert_exporter": "python",
   "pygments_lexer": "ipython3",
   "version": "3.6.5"
  }
 },
 "nbformat": 4,
 "nbformat_minor": 2
}
