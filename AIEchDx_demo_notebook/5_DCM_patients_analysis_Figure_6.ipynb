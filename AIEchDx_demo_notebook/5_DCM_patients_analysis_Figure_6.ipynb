{
 "cells": [
  {
   "cell_type": "code",
   "execution_count": null,
   "metadata": {},
   "outputs": [],
   "source": [
    "import numpy as np\n",
    "import pandas as pd\n",
    "from sklearn.decomposition import PCA\n",
    "import phate\n",
    "\n",
    "import seaborn as sns\n",
    "from ggplot import *\n",
    "import matplotlib.pyplot as plt\n",
    "%matplotlib inline"
   ]
  },
  {
   "cell_type": "markdown",
   "metadata": {},
   "source": [
    "# 0.load data"
   ]
  },
  {
   "cell_type": "code",
   "execution_count": null,
   "metadata": {},
   "outputs": [],
   "source": [
    "name = [\"ASD\",\"HP\",\"MI\",\"NORM\",\"DCM\"]\n",
    "\n",
    "for index, i in enumerate(name):\n",
    "    data_dir = \"...\" + i + \"_data.txt\"\n",
    "    data = pd.read_csv(data_dir,header = None)\n",
    "    \n",
    "    txt_dir = \"...\" + i + \"_name.txt\"\n",
    "    txt = pd.read_csv(txt_dir,header = None)\n",
    "    \n",
    "    print(i)\n",
    "    print(data.shape)\n",
    "    \n",
    "    feat_cols = [ 'pixel_'+str(i) for i in range(data.shape[1]) ]\n",
    "    if data.shape[0]>4000:\n",
    "        rndperm = np.random.permutation(data.shape[0])\n",
    "        \n",
    "        data = pd.DataFrame(data.loc[rndperm[:4000],:].values,columns=feat_cols)\n",
    "        txt = pd.DataFrame(txt.loc[rndperm[:4000],:].values,columns=[\"name\"])\n",
    "        \n",
    "    \n",
    "    data[\"name\"] = list(txt.name)\n",
    "    data[\"label\"] = index+1\n",
    "    data[\"color\"] = i\n",
    "    \n",
    "    if index == 0:\n",
    "        data_sum = data.copy()\n",
    "    else:\n",
    "        data_sum = pd.concat([data_sum, data], ignore_index=True)"
   ]
  },
  {
   "cell_type": "markdown",
   "metadata": {},
   "source": [
    "# 1.PAC analysis"
   ]
  },
  {
   "cell_type": "code",
   "execution_count": null,
   "metadata": {},
   "outputs": [],
   "source": [
    "df = data_sum.copy()\n",
    "pca = PCA(n_components=10)\n",
    "pca_result = pca.fit_transform(df[feat_cols].values)\n",
    "\n",
    "df['pca-one'] = pca_result[:,0]\n",
    "df['pca-two'] = pca_result[:,1] \n",
    "df['pca-three'] = pca_result[:,2]\n",
    "df['pca-four'] = pca_result[:,3]\n",
    "\n",
    "print('Explained variation per principal component: {}'.format(pca.explained_variance_ratio_))"
   ]
  },
  {
   "cell_type": "code",
   "execution_count": null,
   "metadata": {},
   "outputs": [],
   "source": [
    "# plot density map of pca1 and pca2\n",
    "\n",
    "rndperm = np.random.permutation(df.shape[0])\n",
    "chart = ggplot( df.loc[rndperm,:], aes(x='pca-one', y='pca-two', color='color') ) \\\n",
    "        + geom_point(size=5,alpha=1) \\\n",
    "        + ggtitle(\"First and Second Principal Components colored by digit\")\n",
    "chart"
   ]
  },
  {
   "cell_type": "code",
   "execution_count": null,
   "metadata": {},
   "outputs": [],
   "source": [
    "#plot 2-D density contour map\n",
    "\n",
    "name = [\"ASD\",\"DCM\",\"HP\",\"MI\",\"NORM\",\"PFO\"]\n",
    "number = 1\n",
    "\n",
    "f, ax = plt.subplots(figsize=(10, 10))\n",
    "ax = sns.kdeplot(df[df[\"color\"]==name[number]][\"pca-one\"].values, df[df[\"color\"]==name[number]][\"pca-two\"].values,\n",
    "                 cmap=\"rainbow\",\n",
    "                 n_levels=18,\n",
    "                 # shade=True,\n",
    "                 # bw=0.5,\n",
    "                 shade_lowest=False\n",
    "                )\n",
    "ax.set_xlabel(\"PC1\",fontsize=25)\n",
    "ax.set_ylabel(\"PC2\",fontsize=25)\n",
    "ax.set_xlim(-2, 12); ax.set_ylim(-7, 19)"
   ]
  },
  {
   "cell_type": "markdown",
   "metadata": {},
   "source": [
    "# 2.k_mean clustering"
   ]
  },
  {
   "cell_type": "code",
   "execution_count": null,
   "metadata": {},
   "outputs": [],
   "source": [
    "from copy import deepcopy\n",
    "import numpy as np\n",
    "import pandas as pd\n",
    "from matplotlib import pyplot as plt\n",
    "plt.rcParams['figure.figsize'] = (9, 9)\n",
    "plt.style.use('ggplot')"
   ]
  },
  {
   "cell_type": "code",
   "execution_count": null,
   "metadata": {},
   "outputs": [],
   "source": [
    "data = pd.DataFrame(data = df[df[\"color\"]==name[number]].values, columns = df.columns)\n",
    "\n",
    "# Getting the values and plotting it\n",
    "f1 = data['pca-one'].values\n",
    "f2 = data['pca-two'].values\n",
    "X = np.array(list(zip(f1, f2)))\n",
    "plt.scatter(f1, f2, c='black', s=7)"
   ]
  },
  {
   "cell_type": "code",
   "execution_count": null,
   "metadata": {},
   "outputs": [],
   "source": [
    "# Euclidean Distance Caculator\n",
    "def dist(a, b, ax=1):\n",
    "    return np.linalg.norm(a - b, axis=ax)\n",
    "\n",
    "# Number of clusters\n",
    "k = 2\n",
    "# X coordinates of random centroids\n",
    "C_x = np.random.randint(0, np.max(X)-10, size=k)\n",
    "# Y coordinates of random centroids\n",
    "C_y = np.random.randint(0, np.max(X)-10, size=k)\n",
    "C = np.array(list(zip(C_x, C_y)), dtype=np.float32)\n",
    "print(C)\n",
    "\n"
   ]
  },
  {
   "cell_type": "code",
   "execution_count": null,
   "metadata": {},
   "outputs": [],
   "source": [
    "# To store the value of centroids when it updates\n",
    "C_old = np.zeros(C.shape)\n",
    "# Cluster Lables(0, 1, 2)\n",
    "clusters = np.zeros(len(X))\n",
    "# Error func. - Distance between new centroids and old centroids\n",
    "error = dist(C, C_old, None)\n",
    "# Loop will run till the error becomes zero\n",
    "while error != 0:\n",
    "    # Assigning each value to its closest cluster\n",
    "    for i in range(len(X)):\n",
    "        distances = dist(X[i], C)\n",
    "        cluster = np.argmin(distances)\n",
    "        clusters[i] = cluster\n",
    "    # Storing the old centroid values\n",
    "    C_old = deepcopy(C)\n",
    "    # Finding the new centroids by taking the average value\n",
    "    for i in range(k):\n",
    "        points = [X[j] for j in range(len(X)) if clusters[j] == i]\n",
    "        C[i] = np.mean(points, axis=0)\n",
    "    error = dist(C, C_old, None)\n",
    "\n",
    "colors = ['r', 'g', 'b', 'y', 'c', 'm']\n",
    "fig, ax = plt.subplots()\n",
    "for i in range(k):\n",
    "        points = np.array([X[j] for j in range(len(X)) if clusters[j] == i])\n",
    "        ax.scatter(points[:, 0], points[:, 1], s=7, c=colors[i])\n",
    "ax.scatter(C[:, 0], C[:, 1], marker='*', s=200, c='#050505')"
   ]
  },
  {
   "cell_type": "markdown",
   "metadata": {},
   "source": [
    "# 3.PAHTE"
   ]
  },
  {
   "cell_type": "code",
   "execution_count": null,
   "metadata": {},
   "outputs": [],
   "source": [
    "tree_data = data_sum.iloc[::,:2048].values\n",
    "tree_clusters = data_sum.iloc[::,2049].values\n",
    "print(tree_data.shape,tree_clusters.shape)\n",
    "tree_clusters"
   ]
  },
  {
   "cell_type": "code",
   "execution_count": null,
   "metadata": {},
   "outputs": [],
   "source": [
    "phate_operator = phate.PHATE(k=15, t=100)\n",
    "tree_phate = phate_operator.fit_transform(tree_data)\n",
    "plt.scatter(tree_phate[:,0], tree_phate[:,1], c=tree_clusters)\n",
    "plt.show()"
   ]
  },
  {
   "cell_type": "code",
   "execution_count": null,
   "metadata": {},
   "outputs": [],
   "source": [
    "tree_phate2 = pd.DataFrame(data = tree_phate, columns=[\"tree_phate_1\",\"tree_phate_2\"])\n",
    "tree_phate2[\"label\"] = tree_clusters\n",
    "tree_phate2[\"color\"] = data_sum.iloc[:,2050].values\n",
    "\n",
    "tree_phate2.head()\n",
    "sns.set(style=\"ticks\")\n",
    "f, ax = plt.subplots(figsize=(10, 10))\n",
    "ax = sns.scatterplot(x=\"tree_phate_1\", y='tree_phate_2',hue='color', palette=\"husl\", markers=\"o\", sizes=5,\n",
    "                     data=tree_phate2,edgecolor=\"w\", linewidth=0)"
   ]
  }
 ],
 "metadata": {
  "kernelspec": {
   "display_name": "Python 3",
   "language": "python",
   "name": "python3"
  },
  "language_info": {
   "codemirror_mode": {
    "name": "ipython",
    "version": 3
   },
   "file_extension": ".py",
   "mimetype": "text/x-python",
   "name": "python",
   "nbconvert_exporter": "python",
   "pygments_lexer": "ipython3",
   "version": "3.6.5"
  }
 },
 "nbformat": 4,
 "nbformat_minor": 2
}
