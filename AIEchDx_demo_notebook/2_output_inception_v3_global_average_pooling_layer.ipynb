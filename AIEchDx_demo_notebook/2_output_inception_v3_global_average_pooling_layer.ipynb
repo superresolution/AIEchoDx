{
 "cells": [
  {
   "cell_type": "code",
   "execution_count": null,
   "metadata": {},
   "outputs": [],
   "source": [
    "import numpy as np\n",
    "from keras.applications.inception_v3 import InceptionV3\n",
    "from keras.preprocessing import image\n",
    "from keras.preprocessing.image import ImageDataGenerator\n",
    "from keras.models import Model\n",
    "from keras.layers import Dense, GlobalAveragePooling2D, Dropout\n",
    "from keras import backend as K\n",
    "from keras.optimizers import SGD\n",
    "from keras.models import load_model\n",
    "import os\n",
    "from PIL import Image\n",
    "import cv2"
   ]
  },
  {
   "cell_type": "code",
   "execution_count": null,
   "metadata": {},
   "outputs": [],
   "source": [
    "# load model\n",
    "\n",
    "model_name = \"inception_v3.h5\"\n",
    "model = load_model(model_name)\n",
    "model = Model(inputs=model.input, outputs=model.get_layer('global_average_pooling2d_1').output)\n",
    "\n",
    "# print model\n",
    "\n",
    "for i, layer in enumerate(model2.layers):\n",
    "    print(i, layer.name)\n",
    "\n",
    "# output the values from global average pooling layer\n",
    "\n",
    "dir_ = \"/Data_echo\"\n",
    "\n",
    "fold2 = [\"train\", \"validation\" ,\"test\"]\n",
    "\n",
    "fold3 = [\"ASD\",\"DCM\",\"HP\",\"MI\",\"NORM\"]\n",
    "\n",
    "for f1 in fold2:\n",
    "    for f2 in fold3:\n",
    "        path2image = os.path.join(os.path.join(dir_,f1), f2)\n",
    "        all_images = [x for x in sorted(os.listdir(path2image)) if x[-4:] == '.png']\n",
    "        SZ = 224\n",
    "        x_data = np.empty((len(all_images), SZ, SZ, 3), dtype='float32')\n",
    "        for i, name in enumerate(all_images):\n",
    "            im = cv2.imread(path2image + name, cv2.IMREAD_COLOR)\n",
    "            im = cv2.resize(im, dsize=(224, 224), interpolation=cv2.INTER_LANCZOS4)\n",
    "            im = im / 255.\n",
    "            x_data[i, ::, ::, ::] = im\n",
    "\n",
    "        y = model.predict(x_data)\n",
    "        np.savetxt(f1 + \"_\" + f2 + \"_data.txt\", y, delimiter=',')\n",
    "        with open(f1+\"_\"+f2+\"_name.txt\", \"w\") as f:\n",
    "            for s in all_images:\n",
    "                f.write(str(s) +\"\\n\")\n",
    "        f.close()"
   ]
  }
 ],
 "metadata": {
  "kernelspec": {
   "display_name": "Python 3",
   "language": "python",
   "name": "python3"
  },
  "language_info": {
   "codemirror_mode": {
    "name": "ipython",
    "version": 3
   },
   "file_extension": ".py",
   "mimetype": "text/x-python",
   "name": "python",
   "nbconvert_exporter": "python",
   "pygments_lexer": "ipython3",
   "version": "3.6.5"
  }
 },
 "nbformat": 4,
 "nbformat_minor": 2
}
